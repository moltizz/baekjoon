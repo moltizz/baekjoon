{
  "nbformat": 4,
  "nbformat_minor": 0,
  "metadata": {
    "colab": {
      "name": "오븐 시계.ipynb",
      "provenance": [],
      "collapsed_sections": []
    },
    "kernelspec": {
      "name": "python3",
      "display_name": "Python 3"
    },
    "language_info": {
      "name": "python"
    }
  },
  "cells": [
    {
      "cell_type": "code",
      "source": [
        "# 첫 번째 시도 => 실패\n",
        "A, B = map(int, input().split())\n",
        "C = int(input())\n",
        "\n",
        "if A >= 0 and A <= 23 and B >= 0 and B <= 59 and C >= 0 and C <= 10000:\n",
        "    if B + C < 60:\n",
        "        print(A, B+C)\n",
        "    elif B + C == 60:\n",
        "        print(A+1, 0)\n",
        "    elif B + C > 60:\n",
        "        if C//60 == 0:\n",
        "            print(A+(B+C)//60, (B+C)-60)           \n",
        "        elif C//60 >= 1:\n",
        "            if C%60 + B == 60:\n",
        "                print(A+(C//60)+((C%60+B)//60),0)\n",
        "            elif C%60 + B > 60:\n",
        "                print(A+(C//60)+((C%60+B)//60), (C%60+B)%60)\n",
        "            elif C%60 + B < 60:\n",
        "                print(A+C//60, C%60+B)"
      ],
      "metadata": {
        "colab": {
          "base_uri": "https://localhost:8080/"
        },
        "id": "770lyidLDKFp",
        "outputId": "dc00aabd-af77-4e53-c86e-94d31c6f2084"
      },
      "execution_count": null,
      "outputs": [
        {
          "output_type": "stream",
          "name": "stdout",
          "text": [
            "17 40\n",
            "80\n",
            "19 0\n"
          ]
        }
      ]
    },
    {
      "cell_type": "code",
      "source": [
        "# 여러 번 시도 후, 성공\n",
        "A, B = map(int, input().split())\n",
        "C = int(input())\n",
        "\n",
        "if A >= 0 and A <= 23 and B >= 0 and B <= 59 and C >= 0 and C <= 10000:\n",
        "    if B + C < 60:\n",
        "        print(A, B+C)\n",
        "    elif B + C == 60:\n",
        "        if A < 23:\n",
        "            print(A+1, 0)\n",
        "        elif A == 23:\n",
        "            print(0, 0)\n",
        "    elif B + C > 60:\n",
        "        if C//60 == 0:\n",
        "            if A+(B+C)//60 <= 23:  \n",
        "                print(A+(B+C)//60, (B+C)-60)\n",
        "            elif A+(B+C)//60 == 24:\n",
        "                print(0, (B+C)-60)\n",
        "            elif A+(B+C)//60 > 24:\n",
        "                print((A+(B+C)//60)%24, (B+C)-60)\n",
        "        elif C//60 >= 1:\n",
        "            if C%60 + B == 60:\n",
        "                if A+(C//60)+((C%60+B)//60) <= 23:\n",
        "                    print(A+(C//60)+((C%60+B)//60),0)\n",
        "                elif A+(C//60)+((C%60+B)//60) == 24:\n",
        "                    print(0,0)\n",
        "                elif A+(C//60)+((C%60+B)//60) > 24:\n",
        "                    print((A+(C//60)+((C%60+B)//60))%24,0)\n",
        "            elif C%60 + B > 60:\n",
        "                if A+(C//60)+((C%60+B)//60) <= 23:\n",
        "                    print(A+(C//60)+((C%60+B)//60), (C%60+B)%60)\n",
        "                elif A+(C//60)+((C%60+B)//60) == 24:\n",
        "                    print(0, (C%60+B)%60)\n",
        "                elif A+(C//60)+((C%60+B)//60) > 24:\n",
        "                    print((A+(C//60)+((C%60+B)//60))%24,(C%60+B)%60)\n",
        "            elif C%60 + B < 60:\n",
        "                if A+C//60 <= 23:\n",
        "                    print(A+C//60, C%60+B)\n",
        "                elif A+C//60 == 24:\n",
        "                    print(0, C%60+B)\n",
        "                elif A+C//60 > 24:\n",
        "                    print((A+C//60)%24, C%60+B)"
      ],
      "metadata": {
        "colab": {
          "base_uri": "https://localhost:8080/"
        },
        "id": "z7wPzTQ4Qz7F",
        "outputId": "17d49fff-2dfe-4feb-f086-fa8e5937938d"
      },
      "execution_count": 1,
      "outputs": [
        {
          "output_type": "stream",
          "name": "stdout",
          "text": [
            "23 59\n",
            "1\n",
            "0 0\n"
          ]
        }
      ]
    }
  ]
}