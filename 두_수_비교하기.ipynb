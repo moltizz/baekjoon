{
  "nbformat": 4,
  "nbformat_minor": 0,
  "metadata": {
    "colab": {
      "name": "두 수 비교하기.ipynb",
      "provenance": []
    },
    "kernelspec": {
      "name": "python3",
      "display_name": "Python 3"
    },
    "language_info": {
      "name": "python"
    }
  },
  "cells": [
    {
      "cell_type": "code",
      "execution_count": null,
      "metadata": {
        "id": "80d09FGvky07"
      },
      "outputs": [],
      "source": [
        "A, B = map(int,input().split())\n",
        "\n",
        "if A >= -10000 and B >= -10000 and A <= 10000 and B <= 10000:\n",
        "  if A > B:\n",
        "      print('>')\n",
        "  elif A < B: \n",
        "      print('<')\n",
        "  else:\n",
        "      print('==')\n",
        "\n",
        "# if, elif, else에 ':' 붙이는 거 잊지 않기\n",
        "# split 뒤에 '()' 붙이는 거 잊지 않기"
      ]
    }
  ]
}